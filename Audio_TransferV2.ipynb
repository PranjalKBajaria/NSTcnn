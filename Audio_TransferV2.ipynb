{
  "nbformat": 4,
  "nbformat_minor": 0,
  "metadata": {
    "colab": {
      "name": "Audio-Transfer",
      "provenance": [],
      "collapsed_sections": []
    },
    "kernelspec": {
      "name": "python3",
      "display_name": "Python 3"
    },
    "accelerator": "GPU"
  },
  "cells": [
    {
      "cell_type": "code",
      "metadata": {
        "id": "s73MXvxCadQT"
      },
      "source": [
        "import librosa\r\n",
        "import numpy as np\r\n",
        "import scipy.io.wavfile as wavfile\r\n",
        "\r\n",
        "from tensorflow import keras\r\n",
        "import tensorflow as tf\r\n"
      ],
      "execution_count": null,
      "outputs": []
    },
    {
      "cell_type": "code",
      "metadata": {
        "id": "u0Gz-CKK23Rz"
      },
      "source": [
        "# from google.colab import files\r\n",
        "# files.upload()"
      ],
      "execution_count": null,
      "outputs": []
    },
    {
      "cell_type": "code",
      "metadata": {
        "id": "DHHhXhAzlt1Y"
      },
      "source": [
        "def read_as_spectrogram(filename: str, sample_size=2048, sample_rate=44100) -> np.ndarray:\n",
        "    ''' Convert audio file to a spectrogram, contained in a numpy ndarray\n",
        "    :param filename: location of audio file\n",
        "    :return: the audio file as a spectrogram with the shape (1 + sample_size/2, x.shape[0] / hop_length)\n",
        "    '''\n",
        "    # Currently defaulting sample_rate to 44100, based off intel. Librosa default is 22050.\n",
        "\n",
        "    hop_length = sample_size // 2\n",
        "\n",
        "    audio, sr = librosa.load(filename, sample_rate)\n",
        "    spectrogram = librosa.stft(audio, n_fft=sample_size, hop_length=hop_length)\n",
        "    mag_spectrogram = np.abs(spectrogram)\n",
        "    return mag_spectrogram, sr\n",
        "\n",
        "\n",
        "def spectrogram_to_wav(spectrogram: np.ndarray, output_file: str, sample_size=2048, sample_rate=44100) -> None:\n",
        "    ''' Convert a spectrogram into audio, and write it to an audio file\n",
        "    :param spectrogram: Numpy array that represents spectrogram\n",
        "    :param output_file: Path for file to write to\n",
        "    :return:\n",
        "    '''\n",
        "    # Currently defaulting sample_rate to 44100, based off intel. Librosa default is 22050.\n",
        "\n",
        "    hop_length = sample_size // 2\n",
        "    audio = librosa.griffinlim(spectrogram, hop_length=hop_length)\n",
        "    print(\"finished griffin lim\")\n",
        "    wavfile.write(output_file, sample_rate, audio)\n"
      ],
      "execution_count": null,
      "outputs": []
    },
    {
      "cell_type": "code",
      "metadata": {
        "id": "qqQ74psgagrQ"
      },
      "source": [
        "def gram_matrix(tensor):\r\n",
        "    #https://www.datacamp.com/community/tutorials/implementing-neural-style-transfer-using-tensorflow\r\n",
        "    \"\"\"\r\n",
        "    Computes the gram matrix of the input tensor, assuming it has exactly one layer.\r\n",
        "    :param input_tensor: input tensor\r\n",
        "    :return: gram matrix of the input tensor\r\n",
        "    \"\"\"\r\n",
        "    temp = tensor\r\n",
        "    temp = tf.squeeze(temp)\r\n",
        "    reshaped = tf.reshape(temp, [temp.shape[2], temp.shape[0] * temp.shape[1]])\r\n",
        "\r\n",
        "    return tf.matmul(reshaped, tf.transpose(reshaped))"
      ],
      "execution_count": null,
      "outputs": []
    },
    {
      "cell_type": "code",
      "metadata": {
        "id": "mi3sdIjYahNj"
      },
      "source": [
        "def get_content_loss(targets, outputs):\r\n",
        "        return tf.reduce_mean(tf.losses.mean_squared_error(targets, outputs))\r\n",
        "        \r\n",
        "def get_style_loss(targets, outputs):\r\n",
        "        return tf.reduce_mean(tf.losses.mean_squared_error(gram_matrix(targets), gram_matrix(outputs)))"
      ],
      "execution_count": null,
      "outputs": []
    },
    {
      "cell_type": "code",
      "metadata": {
        "id": "7_-hjVu0aulX"
      },
      "source": [
        "# I dont know if dense layers will be required have to look at the paper to see the model\r\n",
        "def model_audio_transfer( combination_spectrogram):\r\n",
        "    # note according to keras lib sequential model is not beneficial here and vgg19 \r\n",
        "    #is for images and cannot be used for audio \r\n",
        "    # for better result add dense layers have 3 functions and name them blocks and then these block \r\n",
        "    # would have softmax and dense layers\r\n",
        "    # Flatten would be needed\r\n",
        "    _, co_time, co_frequency, co_channel = tuple(combination_spectrogram.shape)    \r\n",
        "    model = tf.keras.layers.Conv2D(256, 3, activation=\"relu\",\r\n",
        "                               strides = (1, 1), input_shape=(1, co_time, co_frequency, co_channel))\r\n",
        "    # Decreased filter size b/c of mem issues.\r\n",
        "    return model"
      ],
      "execution_count": null,
      "outputs": []
    },
    {
      "cell_type": "code",
      "metadata": {
        "id": "tJQmKhxAau3A"
      },
      "source": [
        "def compute_loss(style_weight, content_weight, content_features, style_features, combination_features):\r\n",
        "\r\n",
        "  \r\n",
        "\r\n",
        "    \r\n",
        "    # Add content loss\r\n",
        "    content_loss = content_weight * get_content_loss(content_features, combination_features)\r\n",
        "    # Add style loss\r\n",
        "\r\n",
        "    # Zhixian paper: N is # of feature maps, M is height * width (time * freq)\r\n",
        "    M = combination_features.shape[1] * combination_features.shape[2]\r\n",
        "    N = combination_features.shape[-1]\r\n",
        "    #style_factor = (style_weight/ (4 * N** 2 * M ** 2))\r\n",
        "    # The style factor from the Zhixian paper (above) makes the style loss obscenely small.\r\n",
        "    style_factor = (style_weight / (N * M))\r\n",
        "    style_loss = get_style_loss(style_features, combination_features)\r\n",
        "    style_loss *= style_factor\r\n",
        "    loss = style_loss + content_loss\r\n",
        "\r\n",
        "    # Add total variation loss\r\n",
        "    #loss += total_variation_weight * total_variation_loss(combination_image)\r\n",
        "    return loss, style_loss, content_loss"
      ],
      "execution_count": null,
      "outputs": []
    },
    {
      "cell_type": "code",
      "metadata": {
        "id": "4xSKCgJDavRj"
      },
      "source": [
        "def train_step(model,optimizer, content_features, style_features, combination_spectrogram, style_weight, content_weight):\r\n",
        "    with tf.GradientTape() as tape:\r\n",
        "\r\n",
        "        combination_features = model(combination_spectrogram)\r\n",
        "        loss, style_loss, content_loss = compute_loss(style_weight, content_weight, content_features, style_features, combination_features)\r\n",
        "        # Only using style_loss below\r\n",
        "        grads = tape.gradient(style_loss, combination_spectrogram)\r\n",
        "    \r\n",
        "    optimizer.apply_gradients([(grads, combination_spectrogram)])\r\n",
        "    # TODO: The loss is not decreasing. Make sure the grads are actual numbers. If so,then the optimizer params are off?\r\n",
        "    return loss, style_loss, content_loss, grads"
      ],
      "execution_count": null,
      "outputs": []
    },
    {
      "cell_type": "code",
      "metadata": {
        "colab": {
          "base_uri": "https://localhost:8080/"
        },
        "id": "Am-DL56IFGtd",
        "outputId": "cde8f071-7e62-4dff-c4dc-d2a1c3c765ed"
      },
      "source": [
        "from google.colab import drive\n",
        "drive.mount('/content/drive')"
      ],
      "execution_count": null,
      "outputs": [
        {
          "output_type": "stream",
          "text": [
            "Mounted at /content/drive\n"
          ],
          "name": "stdout"
        }
      ]
    },
    {
      "cell_type": "code",
      "metadata": {
        "colab": {
          "base_uri": "https://localhost:8080/"
        },
        "id": "3ZYmVcM5PPNE",
        "outputId": "b2f49a51-f641-4c5d-85e8-d73d027e12dd"
      },
      "source": [
        "\n",
        "content_spectrogram, content_rate = read_as_spectrogram(\"vocals.wav\")\n",
        "print(\"original content_spectrogram shape\")\n",
        "print(content_spectrogram.shape)\n",
        "style_spectrogram, style_rate = read_as_spectrogram(\"accompaniment.wav\")\n",
        "\n"
      ],
      "execution_count": null,
      "outputs": [
        {
          "output_type": "stream",
          "text": [
            "original content_spectrogram shape\n",
            "(1025, 1293)\n"
          ],
          "name": "stdout"
        }
      ]
    },
    {
      "cell_type": "code",
      "metadata": {
        "colab": {
          "base_uri": "https://localhost:8080/",
          "height": 466
        },
        "id": "XKJ2V8_ya62m",
        "outputId": "9826fce4-14fc-40ce-cc34-887efb354ef3"
      },
      "source": [
        "optimizer = keras.optimizers.SGD(\r\n",
        "    learning_rate=0.9, momentum = 0.3, nesterov=True\r\n",
        ")\r\n",
        "print(f'optimizer config, {optimizer.get_config()}')\r\n",
        "style_weight = 1200\r\n",
        "content_weight = 1\r\n",
        "print(f'style weight: {style_weight} content weight: {content_weight}')\r\n",
        "\r\n",
        "\r\n",
        "s_time, s_frequency = style_spectrogram.shape\r\n",
        "c_time, c_frequency = content_spectrogram.shape\r\n",
        "\r\n",
        "\r\n",
        "# change 1 to the number of trainable batches ie the first dimension\r\n",
        "content_spectrogram = tf.reshape(content_spectrogram, [1, c_time , c_frequency, 1])\r\n",
        "style_spectrogram = tf.reshape(style_spectrogram, [1, s_time, s_frequency, 1])\r\n",
        "combination_spectrogram = tf.Variable(tf.identity(content_spectrogram))\r\n",
        "#combination_spectrogram  =   tf.Variable(tf.random.normal([1, c_time, c_frequency, 1]))\r\n",
        "\r\n",
        "model = model_audio_transfer(combination_spectrogram)\r\n",
        "\r\n",
        "\r\n",
        "content_features = model(content_spectrogram)\r\n",
        "\r\n",
        "style_features = model(style_spectrogram)\r\n",
        "print(f'style features shape: {style_features.shape}')\r\n",
        "\r\n",
        "\r\n",
        "iterations = 500\r\n",
        "print(f'num of iterations:{iterations}')\r\n",
        "loss_history = []\r\n",
        "style_loss_history = []\r\n",
        "content_loss_history = []\r\n",
        "for i in range(iterations):\r\n",
        "    loss, style_loss, content_loss, grads = train_step(\r\n",
        "        model, optimizer, content_features, style_features, combination_spectrogram, style_weight, content_weight\r\n",
        "    )\r\n",
        "    loss_history.append(loss)\r\n",
        "    style_loss_history.append(style_loss)\r\n",
        "    content_loss_history.append(content_loss)\r\n",
        "    if i == 1:\r\n",
        "      print(f\"initial loss: {loss}\")\r\n",
        "      print(f\"initial style_loss: {style_loss}\")\r\n",
        "      print(f\"initial content_loss: {content_loss}\")\r\n",
        "\r\n",
        "print(f\"final loss: {loss}\")\r\n",
        "print(f\"final style loss: {style_loss}\")\r\n",
        "print(f\"final content loss: {content_loss}\")\r\n",
        "import matplotlib.pyplot as plt\r\n",
        "\r\n",
        "fig, (loss_ax, style_ax, content_ax) = plt.subplots(3)\r\n",
        "loss_ax.plot(loss_history)\r\n",
        "loss_ax.set_title(\"total loss\")\r\n",
        "\r\n",
        "style_ax.plot(style_loss_history)\r\n",
        "style_ax.set_title(\"style loss\")\r\n",
        "\r\n",
        "content_ax.plot(content_loss_history)\r\n",
        "content_ax.set_title(\"Content Loss\")\r\n",
        "\r\n"
      ],
      "execution_count": null,
      "outputs": [
        {
          "output_type": "stream",
          "text": [
            "optimizer config, {'name': 'SGD', 'learning_rate': 0.9, 'decay': 0.0, 'momentum': 0.3, 'nesterov': True}\n",
            "style weight: 1200 content weight: 1\n",
            "style features shape: (1, 1023, 1291, 256)\n",
            "num of iterations:500\n",
            "initial loss: 16370.3857421875\n",
            "initial style_loss: 16370.3857421875\n",
            "initial content_loss: 1.4918212221104454e-09\n",
            "final loss: 14989.5068359375\n",
            "final style loss: 14989.5048828125\n",
            "final content loss: 0.002221908653154969\n"
          ],
          "name": "stdout"
        },
        {
          "output_type": "execute_result",
          "data": {
            "text/plain": [
              "Text(0.5, 1.0, 'Content Loss')"
            ]
          },
          "metadata": {
            "tags": []
          },
          "execution_count": 17
        },
        {
          "output_type": "display_data",
          "data": {
            "image/png": "[encoded data removed]",
            "text/plain": [
              "<Figure size 432x288 with 3 Axes>"
            ]
          },
          "metadata": {
            "tags": [],
            "needs_background": "light"
          }
        }
      ]
    },
    {
      "cell_type": "code",
      "metadata": {
        "id": "4pA8RwGXa7L7",
        "colab": {
          "base_uri": "https://localhost:8080/"
        },
        "outputId": "a9ef1331-436b-4088-b89a-2e595cc1dbda"
      },
      "source": [
        "final_combination_spectrogram = tf.squeeze(combination_spectrogram)\r\n",
        "print('pre conversion spectrogram dims')\r\n",
        "print(final_combination_spectrogram.shape)\r\n",
        "merge_audio = spectrogram_to_wav(final_combination_spectrogram.numpy(), \"output.wav\")\r\n",
        "print(\"wrote file\")\r\n",
        "\r\n"
      ],
      "execution_count": null,
      "outputs": [
        {
          "output_type": "stream",
          "text": [
            "pre conversion spectrogram dims\n",
            "(1025, 1293)\n",
            "finished griffin lim\n",
            "wrote file\n"
          ],
          "name": "stdout"
        }
      ]
    }
  ]
}