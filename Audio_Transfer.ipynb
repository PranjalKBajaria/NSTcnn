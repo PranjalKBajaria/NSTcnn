{
  "nbformat": 4,
  "nbformat_minor": 0,
  "metadata": {
    "colab": {
      "name": "Audio-Transfer",
      "provenance": [],
      "collapsed_sections": []
    },
    "kernelspec": {
      "name": "python3",
      "display_name": "Python 3"
    },
    "accelerator": "GPU"
  },
  "cells": [
    {
      "cell_type": "code",
      "metadata": {
        "id": "s73MXvxCadQT"
      },
      "source": [
        "import librosa\r\n",
        "import numpy as np\r\n",
        "import IPython.display as ipd\r\n",
        "import scipy.io.wavfile as wavfile\r\n",
        "\r\n",
        "from tensorflow import keras\r\n",
        "import tensorflow as tf\r\n"
      ],
      "execution_count": 245,
      "outputs": []
    },
    {
      "cell_type": "code",
      "metadata": {
        "id": "DHHhXhAzlt1Y"
      },
      "source": [
        "def read_as_spectrogram(filename: str, sample_size=2048, sample_rate=44100) -> np.ndarray:\n",
        "    ''' Convert audio file to a spectrogram, contained in a numpy ndarray\n",
        "    :param filename: location of audio file\n",
        "    :return: the audio file as a spectrogram with the shape (1 + sample_size/2, x.shape[0] / hop_length)\n",
        "    '''\n",
        "    # Currently defaulting sample_rate to 44100, based off intel. Librosa default is 22050.\n",
        "\n",
        "    hop_length = sample_size // 2\n",
        "\n",
        "    audio, sr = librosa.load(filename, sample_rate)\n",
        "    spectrogram = librosa.stft(audio, n_fft=sample_size, hop_length=hop_length)\n",
        "    mag_spectrogram = np.abs(spectrogram)\n",
        "    return mag_spectrogram, sr\n",
        "\n",
        "\n",
        "def spectrogram_to_wav(spectrogram: np.ndarray, output_file: str, sample_size=2048, sample_rate=44100) -> None:\n",
        "    ''' Convert a spectrogram into audio, and write it to an audio file\n",
        "    :param spectrogram: Numpy array that represents spectrogram\n",
        "    :param output_file: Path for file to write to\n",
        "    :return:\n",
        "    '''\n",
        "    # Currently defaulting sample_rate to 44100, based off intel. Librosa default is 22050.\n",
        "\n",
        "    hop_length = sample_size // 2\n",
        "    audio = librosa.griffinlim(spectrogram, hop_length=hop_length)\n",
        "    print(\"finished griffin lim\")\n",
        "    wavfile.write(output_file, sample_rate, audio)\n"
      ],
      "execution_count": 246,
      "outputs": []
    },
    {
      "cell_type": "code",
      "metadata": {
        "id": "qqQ74psgagrQ"
      },
      "source": [
        "def gram_matrix(tensor):\r\n",
        "    #https://www.datacamp.com/community/tutorials/implementing-neural-style-transfer-using-tensorflow\r\n",
        "    \"\"\"\r\n",
        "    Computes the gram matrix of the input tensor, assuming it has exactly one layer.\r\n",
        "    :param input_tensor: input tensor\r\n",
        "    :return: gram matrix of the input tensor\r\n",
        "    \"\"\"\r\n",
        "    temp = tensor\r\n",
        "    temp = tf.squeeze(temp)\r\n",
        "    reshaped = tf.reshape(temp, [temp.shape[2], temp.shape[0] * temp.shape[1]])\r\n",
        "\r\n",
        "    return tf.matmul(reshaped, tf.transpose(reshaped))"
      ],
      "execution_count": 247,
      "outputs": []
    },
    {
      "cell_type": "code",
      "metadata": {
        "id": "mi3sdIjYahNj"
      },
      "source": [
        "def get_content_loss(targets, outputs):\r\n",
        "        return tf.reduce_mean(tf.losses.mean_squared_error(targets, outputs))\r\n",
        "        \r\n",
        "def get_style_loss(targets, outputs):\r\n",
        "        return tf.reduce_mean(tf.losses.mean_squared_error(gram_matrix(targets), gram_matrix(outputs)))"
      ],
      "execution_count": 248,
      "outputs": []
    },
    {
      "cell_type": "code",
      "metadata": {
        "id": "7_-hjVu0aulX"
      },
      "source": [
        "# I dont know if dense layers will be required have to look at the paper to see the model\r\n",
        "def model_audio_transfer( combination_spectrogram):\r\n",
        "    # note according to keras lib sequential model is not beneficial here and vgg19 \r\n",
        "    #is for images and cannot be used for audio \r\n",
        "    # for better result add dense layers have 3 functions and name them blocks and then these block \r\n",
        "    # would have softmax and dense layers\r\n",
        "    # Flatten would be needed\r\n",
        "    _, co_time, co_frequency, co_channel = tuple(combination_spectrogram.shape)\r\n",
        "    print(combination_spectrogram.shape)\r\n",
        "    \r\n",
        "    model = tf.keras.layers.Conv2D(64, 3, activation=\"relu\",\r\n",
        "                               strides = (1, 1), input_shape=(1, co_time, co_frequency, co_channel))\r\n",
        "    # Decreased filter size b/c of mem issues.\r\n",
        "    return model"
      ],
      "execution_count": 249,
      "outputs": []
    },
    {
      "cell_type": "code",
      "metadata": {
        "id": "tJQmKhxAau3A"
      },
      "source": [
        "def compute_loss(style_weight, content_weight, content_features, style_features, combination_features):\r\n",
        "\r\n",
        "  \r\n",
        "\r\n",
        "    \r\n",
        "    # Add content loss\r\n",
        "    # dividing by 2 b/c following formula from Zhixian paper\r\n",
        "    loss = (content_weight/2) * get_content_loss(content_features, combination_features)\r\n",
        "    # Add style loss\r\n",
        "\r\n",
        "    # Zhixian paper: N is # of feature maps, M is height * width (time * freq)\r\n",
        "    M = combination_features.shape[1] * combination_features.shape[2]\r\n",
        "    N = combination_features.shape[-1]\r\n",
        "    style_factor = (style_weight/ (4 * N** 2 * M ** 2))\r\n",
        "    style_loss = get_style_loss(style_features, combination_features)\r\n",
        "    loss += style_weight * style_loss\r\n",
        "\r\n",
        "    # Add total variation loss\r\n",
        "    #loss += total_variation_weight * total_variation_loss(combination_image)\r\n",
        "    return loss"
      ],
      "execution_count": 250,
      "outputs": []
    },
    {
      "cell_type": "code",
      "metadata": {
        "id": "4xSKCgJDavRj"
      },
      "source": [
        "def train_step(model,optimizer, content_features, style_features, combination_spectrogram, style_weight, content_weight):\r\n",
        "    with tf.GradientTape() as tape:\r\n",
        "\r\n",
        "        combination_features = model(combination_spectrogram)\r\n",
        "        loss = compute_loss(style_weight, content_weight, content_features, style_features, combination_features)\r\n",
        "        grads = tape.gradient(loss, combination_spectrogram)\r\n",
        "    \r\n",
        "    optimizer.apply_gradients([(grads, combination_spectrogram)])\r\n",
        "    # TODO: The loss is not decreasing. Make sure the grads are actual numbers. If so,then the optimizer params are off?\r\n",
        "    return loss, grads"
      ],
      "execution_count": 251,
      "outputs": []
    },
    {
      "cell_type": "code",
      "metadata": {
        "colab": {
          "base_uri": "https://localhost:8080/"
        },
        "id": "3ZYmVcM5PPNE",
        "outputId": "5152773c-6b5c-4f1d-a94a-98ff021b2724"
      },
      "source": [
        "\n",
        "content_spectrogram, content_rate = read_as_spectrogram(\"content.wav\")\n",
        "print(\"original content_spectrogram shape\")\n",
        "print(content_spectrogram.shape)\n",
        "style_spectrogram, style_rate = read_as_spectrogram(\"style.wav\")\n",
        "\n"
      ],
      "execution_count": 252,
      "outputs": [
        {
          "output_type": "stream",
          "text": [
            "original content_spectrogram shape\n",
            "(1025, 1296)\n"
          ],
          "name": "stdout"
        }
      ]
    },
    {
      "cell_type": "code",
      "metadata": {
        "colab": {
          "base_uri": "https://localhost:8080/",
          "height": 415
        },
        "id": "XKJ2V8_ya62m",
        "outputId": "fcd237d6-66fe-4f62-a84d-d43feb853209"
      },
      "source": [
        "optimizer = keras.optimizers.SGD(\r\n",
        "    learning_rate=0.6\r\n",
        ")\r\n",
        "print(f'optimizer config, {optimizer.get_config()}')\r\n",
        "style_weight = 0.001\r\n",
        "content_weight = 0.5\r\n",
        "print(f'style weight: {style_weight} content weight: {content_weight}')\r\n",
        "\r\n",
        "\r\n",
        "s_time, s_frequency = style_spectrogram.shape\r\n",
        "c_time, c_frequency = content_spectrogram.shape\r\n",
        "\r\n",
        "\r\n",
        "# change 1 to the number of trainable batches ie the first dimension\r\n",
        "content_spectrogram = tf.reshape(content_spectrogram, [1, c_time , c_frequency, 1])\r\n",
        "style_spectrogram = tf.reshape(style_spectrogram, [1, s_time, s_frequency, 1])\r\n",
        "combination_spectrogram = tf.Variable(tf.identity(content_spectrogram))\r\n",
        "\r\n",
        "model = model_audio_transfer(combination_spectrogram)\r\n",
        "\r\n",
        "\r\n",
        "content_features = model(content_spectrogram)\r\n",
        "\r\n",
        "style_features = model(style_spectrogram)\r\n",
        "print(f'style features shape: {style_features.shape}')\r\n",
        "\r\n",
        "\r\n",
        "iterations = 100\r\n",
        "print(f'num of iterations:{iterations}')\r\n",
        "loss_history = []\r\n",
        "for i in range(iterations):\r\n",
        "    loss, grads = train_step(\r\n",
        "        model, optimizer, content_features, style_features, combination_spectrogram, style_weight, content_weight\r\n",
        "    )\r\n",
        "    loss_history.append(loss)\r\n",
        "    if i == 1:\r\n",
        "      print(f\"initial loss: {loss}\")\r\n",
        "\r\n",
        "print(f\"final loss: {loss}\")\r\n",
        "import matplotlib.pyplot as plt\r\n",
        "plt.plot(loss_history)"
      ],
      "execution_count": 253,
      "outputs": [
        {
          "output_type": "stream",
          "text": [
            "optimizer config, {'name': 'SGD', 'learning_rate': 0.6, 'decay': 0.0, 'momentum': 0.0, 'nesterov': False}\n",
            "style weight: 0.001 content weight: 0.5\n",
            "(1, 1025, 1296, 1)\n",
            "style features shape: (1, 1023, 1291, 64)\n",
            "num of iterations:100\n",
            "initial loss: 10601362358272.0\n",
            "final loss: 36560876.0\n"
          ],
          "name": "stdout"
        },
        {
          "output_type": "execute_result",
          "data": {
            "text/plain": [
              "[<matplotlib.lines.Line2D at 0x7fef581bcb10>]"
            ]
          },
          "metadata": {
            "tags": []
          },
          "execution_count": 253
        },
        {
          "output_type": "display_data",
          "data": {
            "image/png": "[encoded data removed]",
            "text/plain": [
              "<Figure size 432x288 with 1 Axes>"
            ]
          },
          "metadata": {
            "tags": [],
            "needs_background": "light"
          }
        }
      ]
    },
    {
      "cell_type": "code",
      "metadata": {
        "id": "4pA8RwGXa7L7",
        "colab": {
          "base_uri": "https://localhost:8080/",
          "height": 417
        },
        "outputId": "d548bdc2-4df6-42d0-aac3-c91f94a4b9f6"
      },
      "source": [
        "final_combination_spectrogram = tf.squeeze(combination_spectrogram)\r\n",
        "print('pre conversion spectrogram dims')\r\n",
        "print(final_combination_spectrogram.shape)\r\n",
        "# I'm assuming we just need to get the spectrogram back to it's original shape\r\n",
        "# its (1, x,y,1), and was originally (x,y) so just sqeeze\r\n",
        "merge_audio = spectrogram_to_wav(final_combination_spectrogram.numpy(), \"output.wav\")\r\n",
        "print(\"wrote file\")\r\n",
        "\r\n"
      ],
      "execution_count": 254,
      "outputs": [
        {
          "output_type": "stream",
          "text": [
            "pre conversion spectrogram dims\n",
            "(1025, 1296)\n"
          ],
          "name": "stdout"
        },
        {
          "output_type": "error",
          "ename": "ParameterError",
          "evalue": "ignored",
          "traceback": [
            "\u001b[0;31m---------------------------------------------------------------------------\u001b[0m",
            "\u001b[0;31mParameterError\u001b[0m                            Traceback (most recent call last)",
            "\u001b[0;32m<ipython-input-254-e61e2eef68a8>\u001b[0m in \u001b[0;36m<module>\u001b[0;34m()\u001b[0m\n\u001b[1;32m      4\u001b[0m \u001b[0;31m# I'm assuming we just need to get the spectrogram back to it's original shape\u001b[0m\u001b[0;34m\u001b[0m\u001b[0;34m\u001b[0m\u001b[0;34m\u001b[0m\u001b[0m\n\u001b[1;32m      5\u001b[0m \u001b[0;31m# its (1, x,y,1), and was originally (x,y) so just sqeeze\u001b[0m\u001b[0;34m\u001b[0m\u001b[0;34m\u001b[0m\u001b[0;34m\u001b[0m\u001b[0m\n\u001b[0;32m----> 6\u001b[0;31m \u001b[0mmerge_audio\u001b[0m \u001b[0;34m=\u001b[0m \u001b[0mspectrogram_to_wav\u001b[0m\u001b[0;34m(\u001b[0m\u001b[0mfinal_combination_spectrogram\u001b[0m\u001b[0;34m.\u001b[0m\u001b[0mnumpy\u001b[0m\u001b[0;34m(\u001b[0m\u001b[0;34m)\u001b[0m\u001b[0;34m,\u001b[0m \u001b[0;34m\"output.wav\"\u001b[0m\u001b[0;34m)\u001b[0m\u001b[0;34m\u001b[0m\u001b[0;34m\u001b[0m\u001b[0m\n\u001b[0m\u001b[1;32m      7\u001b[0m \u001b[0mprint\u001b[0m\u001b[0;34m(\u001b[0m\u001b[0;34m\"wrote file\"\u001b[0m\u001b[0;34m)\u001b[0m\u001b[0;34m\u001b[0m\u001b[0;34m\u001b[0m\u001b[0m\n\u001b[1;32m      8\u001b[0m \u001b[0;34m\u001b[0m\u001b[0m\n",
            "\u001b[0;32m<ipython-input-246-2a9a2b00f364>\u001b[0m in \u001b[0;36mspectrogram_to_wav\u001b[0;34m(spectrogram, output_file, sample_size, sample_rate)\u001b[0m\n\u001b[1;32m     23\u001b[0m \u001b[0;34m\u001b[0m\u001b[0m\n\u001b[1;32m     24\u001b[0m     \u001b[0mhop_length\u001b[0m \u001b[0;34m=\u001b[0m \u001b[0msample_size\u001b[0m \u001b[0;34m//\u001b[0m \u001b[0;36m2\u001b[0m\u001b[0;34m\u001b[0m\u001b[0;34m\u001b[0m\u001b[0m\n\u001b[0;32m---> 25\u001b[0;31m     \u001b[0maudio\u001b[0m \u001b[0;34m=\u001b[0m \u001b[0mlibrosa\u001b[0m\u001b[0;34m.\u001b[0m\u001b[0mgriffinlim\u001b[0m\u001b[0;34m(\u001b[0m\u001b[0mspectrogram\u001b[0m\u001b[0;34m,\u001b[0m \u001b[0mhop_length\u001b[0m\u001b[0;34m=\u001b[0m\u001b[0mhop_length\u001b[0m\u001b[0;34m)\u001b[0m\u001b[0;34m\u001b[0m\u001b[0;34m\u001b[0m\u001b[0m\n\u001b[0m\u001b[1;32m     26\u001b[0m     \u001b[0mprint\u001b[0m\u001b[0;34m(\u001b[0m\u001b[0;34m\"finished griffin lim\"\u001b[0m\u001b[0;34m)\u001b[0m\u001b[0;34m\u001b[0m\u001b[0;34m\u001b[0m\u001b[0m\n\u001b[1;32m     27\u001b[0m     \u001b[0mwavfile\u001b[0m\u001b[0;34m.\u001b[0m\u001b[0mwrite\u001b[0m\u001b[0;34m(\u001b[0m\u001b[0moutput_file\u001b[0m\u001b[0;34m,\u001b[0m \u001b[0msample_rate\u001b[0m\u001b[0;34m,\u001b[0m \u001b[0maudio\u001b[0m\u001b[0;34m)\u001b[0m\u001b[0;34m\u001b[0m\u001b[0;34m\u001b[0m\u001b[0m\n",
            "\u001b[0;32m/usr/local/lib/python3.7/dist-packages/librosa/core/spectrum.py\u001b[0m in \u001b[0;36mgriffinlim\u001b[0;34m(S, n_iter, hop_length, win_length, window, center, dtype, length, pad_mode, momentum, init, random_state)\u001b[0m\n\u001b[1;32m   2413\u001b[0m             \u001b[0mwindow\u001b[0m\u001b[0;34m=\u001b[0m\u001b[0mwindow\u001b[0m\u001b[0;34m,\u001b[0m\u001b[0;34m\u001b[0m\u001b[0;34m\u001b[0m\u001b[0m\n\u001b[1;32m   2414\u001b[0m             \u001b[0mcenter\u001b[0m\u001b[0;34m=\u001b[0m\u001b[0mcenter\u001b[0m\u001b[0;34m,\u001b[0m\u001b[0;34m\u001b[0m\u001b[0;34m\u001b[0m\u001b[0m\n\u001b[0;32m-> 2415\u001b[0;31m             \u001b[0mpad_mode\u001b[0m\u001b[0;34m=\u001b[0m\u001b[0mpad_mode\u001b[0m\u001b[0;34m,\u001b[0m\u001b[0;34m\u001b[0m\u001b[0;34m\u001b[0m\u001b[0m\n\u001b[0m\u001b[1;32m   2416\u001b[0m         )\n\u001b[1;32m   2417\u001b[0m \u001b[0;34m\u001b[0m\u001b[0m\n",
            "\u001b[0;32m/usr/local/lib/python3.7/dist-packages/librosa/core/spectrum.py\u001b[0m in \u001b[0;36mstft\u001b[0;34m(y, n_fft, hop_length, win_length, window, center, dtype, pad_mode)\u001b[0m\n\u001b[1;32m    215\u001b[0m \u001b[0;34m\u001b[0m\u001b[0m\n\u001b[1;32m    216\u001b[0m     \u001b[0;31m# Check audio is valid\u001b[0m\u001b[0;34m\u001b[0m\u001b[0;34m\u001b[0m\u001b[0;34m\u001b[0m\u001b[0m\n\u001b[0;32m--> 217\u001b[0;31m     \u001b[0mutil\u001b[0m\u001b[0;34m.\u001b[0m\u001b[0mvalid_audio\u001b[0m\u001b[0;34m(\u001b[0m\u001b[0my\u001b[0m\u001b[0;34m)\u001b[0m\u001b[0;34m\u001b[0m\u001b[0;34m\u001b[0m\u001b[0m\n\u001b[0m\u001b[1;32m    218\u001b[0m \u001b[0;34m\u001b[0m\u001b[0m\n\u001b[1;32m    219\u001b[0m     \u001b[0;31m# Pad the time series so that frames are centered\u001b[0m\u001b[0;34m\u001b[0m\u001b[0;34m\u001b[0m\u001b[0;34m\u001b[0m\u001b[0m\n",
            "\u001b[0;32m/usr/local/lib/python3.7/dist-packages/librosa/util/utils.py\u001b[0m in \u001b[0;36mvalid_audio\u001b[0;34m(y, mono)\u001b[0m\n\u001b[1;32m    308\u001b[0m \u001b[0;34m\u001b[0m\u001b[0m\n\u001b[1;32m    309\u001b[0m     \u001b[0;32mif\u001b[0m \u001b[0;32mnot\u001b[0m \u001b[0mnp\u001b[0m\u001b[0;34m.\u001b[0m\u001b[0misfinite\u001b[0m\u001b[0;34m(\u001b[0m\u001b[0my\u001b[0m\u001b[0;34m)\u001b[0m\u001b[0;34m.\u001b[0m\u001b[0mall\u001b[0m\u001b[0;34m(\u001b[0m\u001b[0;34m)\u001b[0m\u001b[0;34m:\u001b[0m\u001b[0;34m\u001b[0m\u001b[0;34m\u001b[0m\u001b[0m\n\u001b[0;32m--> 310\u001b[0;31m         \u001b[0;32mraise\u001b[0m \u001b[0mParameterError\u001b[0m\u001b[0;34m(\u001b[0m\u001b[0;34m\"Audio buffer is not finite everywhere\"\u001b[0m\u001b[0;34m)\u001b[0m\u001b[0;34m\u001b[0m\u001b[0;34m\u001b[0m\u001b[0m\n\u001b[0m\u001b[1;32m    311\u001b[0m \u001b[0;34m\u001b[0m\u001b[0m\n\u001b[1;32m    312\u001b[0m     \u001b[0;32mreturn\u001b[0m \u001b[0;32mTrue\u001b[0m\u001b[0;34m\u001b[0m\u001b[0;34m\u001b[0m\u001b[0m\n",
            "\u001b[0;31mParameterError\u001b[0m: Audio buffer is not finite everywhere"
          ]
        }
      ]
    }
  ]
}