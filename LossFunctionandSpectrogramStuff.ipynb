{
 "cells": [
  {
   "cell_type": "code",
   "execution_count": 14,
   "metadata": {},
   "outputs": [],
   "source": [
    "import librosa\n",
    "import numpy as np\n",
    "import IPython.display as ipd\n",
    "import scipy.io.wavfile as wavfile\n",
    "import matplotlib.pyplot as plot\n",
    "import soundfile as sf\n",
    "from tensorflow import keras\n",
    "import tensorflow as tf"
   ]
  },
  {
   "cell_type": "code",
   "execution_count": 4,
   "metadata": {},
   "outputs": [],
   "source": [
    "class AudioStuff:\n",
    "    \n",
    "    def __init__(self, filename):\n",
    "        self.filename = filename\n",
    "        \n",
    "    def audio_to_spectrogram(self):\n",
    "        audio, sr = librosa.load(self.filename)\n",
    "        D = np.abs(librosa.stft(audio))**2\n",
    "        audio= librosa.feature.melspectrogram(y=audio, sr=sr, S=D)\n",
    "        return (audio, sr)"
   ]
  },
  {
   "cell_type": "code",
   "execution_count": 5,
   "metadata": {},
   "outputs": [],
   "source": [
    "def MergeSpectrogram(spectrometer1, spectrometer2):\n",
    "        return (spectrogram1 + self.spectrogram2)/2"
   ]
  },
  {
   "cell_type": "code",
   "execution_count": 6,
   "metadata": {},
   "outputs": [],
   "source": [
    "def gram_matrix(tensor):\n",
    "    #https://www.datacamp.com/community/tutorials/implementing-neural-style-transfer-using-tensorflow\n",
    "    \"\"\"\n",
    "    Computes the gram matrix of the input tensor, assuming it has exactly one layer.\n",
    "    :param input_tensor: input tensor\n",
    "    :return: gram matrix of the input tensor\n",
    "    \"\"\"\n",
    "    temp = tensor\n",
    "    temp = tf.squeeze(temp)\n",
    "    fun = tf.reshape(temp, [temp.shape[2], temp.shape[0]*temp.shape[1]])\n",
    "    result = tf.matmul(temp, temp, transpose_b=True)\n",
    "    gram = tf.expand_dims(result, axis=0)\n",
    "    return gram"
   ]
  },
  {
   "cell_type": "code",
   "execution_count": 7,
   "metadata": {},
   "outputs": [],
   "source": [
    "def loss_c_func(mel_targets, mel_outputs):\n",
    "        return tf.losses.mean_squared_error(mel_targets, mel_outputs)\n",
    "        \n",
    "def loss_s_func(mel_targets, mel_outputs):\n",
    "        return tf.losses.mean_squared_error(gram_matrix(mel_targets), gram_matrix(mel_outputs))"
   ]
  },
  {
   "cell_type": "code",
   "execution_count": 8,
   "metadata": {},
   "outputs": [],
   "source": [
    "def spectrogram_to_audio(spectrogram):\n",
    "    res = librosa.feature.inverse.mel_to_audio(spectrogram)\n",
    "    return res"
   ]
  },
  {
   "cell_type": "code",
   "execution_count": 9,
   "metadata": {},
   "outputs": [],
   "source": [
    "# define the model\n",
    "# construction\n",
    "\n",
    "# I dont know if dense layers will be required have to look at the paper to see the model\n",
    "def model_audio_tranfer(content_spectrogram, style_spectrogram, combination_spectrogram):\n",
    "    # note according to keras lib sequential model is not beneficial here and vgg19 \n",
    "    # is for images and cannot be used for audio \n",
    "    # for better result add dense layers have 3 functions and name them blocks and then these block \n",
    "    # would have softmax and dense layers\n",
    "    # Flatten would be needed\n",
    "    # N_FILTERS = 4096\n",
    "    N_FILTERS = 256\n",
    "    x_1 = content_spectrogram\n",
    "    x_2 = style_spectrogram\n",
    "    x_3 = combination_spectrogram\n",
    "    _ , c_time, c_frequency, c_channel = tuple(content_spectrogram.shape)\n",
    "    _ , s_time, s_frequency, s_channel = tuple(style_spectrogram.shape)\n",
    "    _ , co_time, co_frequency, co_channel = tuple(combination_spectrogram.shape)\n",
    "    \n",
    "    \n",
    "    y_1 = tf.keras.layers.Conv2D(N_FILTERS, (3, 3), activation=\"relu\", \n",
    "                               strides = (2, 2), input_shape=(c_time, c_frequency, c_channel))(x_1)\n",
    "    y_2 = tf.keras.layers.Conv2D(N_FILTERS, (3, 3), activation = \"relu\", strides = (2, 2), \n",
    "                                 input_shape=(s_time, s_frequency, s_channel))(x_2)\n",
    "    \n",
    "    y_3 = tf.keras.layers.Conv2D(N_FILTERS, (3, 3), activation = \"relu\", strides = (2, 2), \n",
    "                                 input_shape=(co_time, co_frequency, co_channel))(x_3)\n",
    "    \n",
    "    return (y_1, y_2, y_3)\n",
    "#     model = tf.keras.models.Sequential([\n",
    "#     tf.keras.layers.Conv2D(N_FILTERS, (3,3), activation = \"relu\",\n",
    "#                           input_shape = (:,:,1)),\n",
    "#     tf.keras.layers.MaxPooling2D(2, 2),\n",
    "#     tf.keras.layers.Conv2D(N_FILTERS, (3,3), activation = \"relu\", input_shape = (:,:,1))\n",
    "#     tf.keras.layers.Flatten(),\n",
    "#     tf.keras.layers.Dense(128, activation = \"relu\"),\n",
    "#     tf.keras.layers.Dense(10, activation = \"softmax\"),\n",
    "#])\n",
    "\n",
    "#     model = tf.keras.models.Sequential()\n",
    "#     model.add(tf.keras.layers.Conv2D(N_FILTERS, (3, 3), activation='relu')) # layer for content\n",
    "#     model.add(tf.keras.layers.Conv2D(N_FILTERS, (3, 3), activation='relu')) # layer for style\n",
    "#     print(model.layers[1].name)"
   ]
  },
  {
   "cell_type": "code",
   "execution_count": 10,
   "metadata": {},
   "outputs": [],
   "source": [
    "def compute_loss(content_spectrogram, style_spectrogram, combination_spectrogram):\n",
    "    style_weight = 1e-6\n",
    "    content_weight = 2.5e-8\n",
    "    # Initialize the loss\n",
    "    loss = tf.zeros(shape=())\n",
    "    \n",
    "    #intialize the layers and there outputs\n",
    "    content_features, style_features, combination_features= \\\n",
    "    model_audio_tranfer(content_spectrogram, style_spectrogram, combination_spectrogram)\n",
    "    \n",
    "    # Add content loss\n",
    "\n",
    "    loss = loss + content_weight * loss_c_func(content_features, combination_features)\n",
    "    # Add style loss\n",
    "\n",
    "    sl = loss_s_func(style_features, combination_features)\n",
    "    loss += (style_weight / len(style_features)) * sl\n",
    "\n",
    "    # Add total variation loss\n",
    "    #loss += total_variation_weight * total_variation_loss(combination_image)\n",
    "    return loss"
   ]
  },
  {
   "cell_type": "code",
   "execution_count": 11,
   "metadata": {},
   "outputs": [],
   "source": [
    "def compute_loss_and_grads(content_spectrogram, style_spectrogram, combination_spectrogram):\n",
    "    with tf.GradientTape() as tape:\n",
    "        loss = compute_loss(content_spectrogram, style_spectrogram, combination_spectrogram)\n",
    "    grads = tape.gradient(loss, combination_spectrogram)\n",
    "    return loss, grads"
   ]
  },
  {
   "cell_type": "code",
   "execution_count": 17,
   "metadata": {},
   "outputs": [],
   "source": [
    "optimizer = keras.optimizers.SGD(\n",
    "    keras.optimizers.schedules.ExponentialDecay(\n",
    "        initial_learning_rate=100.0, decay_steps=100, decay_rate=0.96\n",
    "    )\n",
    ")\n",
    "\n",
    "content_object = AudioStuff(\"vocals.wav\")\n",
    "style_object = AudioStuff(\"accompaniment.wav\")\n",
    "content_spectrogram, content_rate = content_object.audio_to_spectrogram()\n",
    "style_spectrogram, style_rate = style_object.audio_to_spectrogram()\n",
    "\n",
    "\n",
    "\n",
    "\n",
    "s_time, s_frequency = style_spectrogram.shape\n",
    "c_time, c_frequency = content_spectrogram.shape\n",
    "\n",
    "\n",
    "# change 1 to the number of trainable batches ie the first dimension\n",
    "content_spectrogram = tf.reshape(content_spectrogram, [1, c_time , c_frequency, 1])\n",
    "style_spectrogram = tf.reshape(style_spectrogram, [1, s_time, s_frequency, 1])\n",
    "combination_spectrogram  =   tf.Variable(content_spectrogram)\n",
    "\n",
    "\n",
    "iterations = 100\n",
    "for i in range(1, iterations + 1):\n",
    "    #print(content_spectrogram)\n",
    "    loss, grads = compute_loss_and_grads(\n",
    "        content_spectrogram, style_spectrogram, combination_spectrogram\n",
    "    )\n",
    "    # works till here but comp will fail after this lol resource exhausted error (fix: change the hyperparameters)\n",
    "    optimizer.apply_gradients([(grads, combination_spectrogram)])\n",
    "    \n",
    "# might have to do tf.sqeeze and then tf.reshape because the dimension is different\n",
    "     "
   ]
  },
  {
   "cell_type": "code",
   "execution_count": 18,
   "metadata": {},
   "outputs": [
    {
     "name": "stdout",
     "output_type": "stream",
     "text": [
      "(128, 1293)\n"
     ]
    },
    {
     "name": "stderr",
     "output_type": "stream",
     "text": [
      "C:\\Users\\Hp\\miniconda3\\envs\\tensorflow\\lib\\site-packages\\ipykernel_launcher.py:6: UserWarning: Only one segment is calculated since parameter NFFT (=256) >= signal length (=128).\n",
      "  \n"
     ]
    },
    {
     "data": {
      "image/png": "[encoded data removed]",
      "text/plain": [
       "<Figure size 432x288 with 1 Axes>"
      ]
     },
     "metadata": {
      "needs_background": "light"
     },
     "output_type": "display_data"
    }
   ],
   "source": [
    "combination_spectrogram = tf.squeeze(combination_spectrogram)\n",
    "print(combination_spectrogram.shape)\n",
    "#colourband, frequency= combination_spectrogram.shape\n",
    "#combination_spectrogram = tf.reshape(combination_spectrogram, [colourband, frequency\n",
    "plot.subplot(212)\n",
    "plot.specgram(combination_spectrogram,Fs=style_rate)\n",
    "plot.xlabel('Time')\n",
    "plot.ylabel('Frequency')\n",
    "plot.show()"
   ]
  },
  {
   "cell_type": "code",
   "execution_count": 19,
   "metadata": {},
   "outputs": [],
   "source": [
    "merge_audio = spectrogram_to_audio(combination_spectrogram.numpy())\n",
    "sf.write(\"output.wav\", merge_audio, samplerate=style_rate)"
   ]
  },
  {
   "cell_type": "code",
   "execution_count": null,
   "metadata": {},
   "outputs": [],
   "source": [
    "# dont run this\n",
    "\n",
    "if __name__ == '__main__':\n",
    "    content_object = AudioStuff(\"vocals.wav\")\n",
    "    style_object = AudioStuff(\"accompaniment.wav\")\n",
    "    content_spectrogram, content_rate = content_object.audio_to_spectrogram()\n",
    "    style_spectrogram, style_rate = style_object.audio_to_spectrogram()\n",
    "    #print(content_spectrogram.shape)\n",
    "    #print(style_spectrogram)\n",
    "    object1 = SpectrogramStuff(content_spectrogram, style_spectrogram)\n",
    "    print(object1.MergeSpectrogram().shape)\n",
    "    #content_audio = spectrogram_to_audio(content_spectrogram)\n",
    "    merge_spectrogram = object1.MergeSpectrogram()\n",
    "    merge_audio = spectrogram_to_audio(merge_spectrogram)\n",
    "    #style_audio = spectrogram_to_audio(style_spectrogram)\n",
    "    wavfile.write(\"OUTPUT/outp3.wav\", style_rate, merge_audio)\n",
    "\n",
    "    \n",
    "    "
   ]
  },
  {
   "cell_type": "code",
   "execution_count": null,
   "metadata": {},
   "outputs": [],
   "source": []
  }
 ],
 "metadata": {
  "kernelspec": {
   "display_name": "Python 3.7 (tensorflow)",
   "language": "python",
   "name": "tensorflow"
  },
  "language_info": {
   "codemirror_mode": {
    "name": "ipython",
    "version": 3
   },
   "file_extension": ".py",
   "mimetype": "text/x-python",
   "name": "python",
   "nbconvert_exporter": "python",
   "pygments_lexer": "ipython3",
   "version": "3.7.9"
  }
 },
 "nbformat": 4,
 "nbformat_minor": 4
}
