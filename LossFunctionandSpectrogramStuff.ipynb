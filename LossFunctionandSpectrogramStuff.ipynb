{
 "cells": [
  {
   "cell_type": "code",
   "execution_count": 37,
   "metadata": {},
   "outputs": [],
   "source": [
    "import librosa\n",
    "import numpy as np\n",
    "import IPython.display as ipd\n",
    "import scipy.io.wavfile as wavfile"
   ]
  },
  {
   "cell_type": "code",
   "execution_count": 29,
   "metadata": {},
   "outputs": [],
   "source": [
    "class AudioStuff:\n",
    "    \n",
    "    def __init__(self, filename):\n",
    "        self.filename = filename\n",
    "        \n",
    "    def audio_to_spectrogram(self):\n",
    "        audio, sr = librosa.load(self.filename)\n",
    "        D = np.abs(librosa.stft(audio))**2\n",
    "        audio= librosa.feature.melspectrogram(y=audio, sr=sr, S=D)\n",
    "        return (audio, sr)\n",
    "    \n"
   ]
  },
  {
   "cell_type": "code",
   "execution_count": 46,
   "metadata": {},
   "outputs": [],
   "source": [
    "class SpectrogramStuff:\n",
    "    def __init__(self, spectrogram1, spectrogram2):\n",
    "        self.spectrogram1 = spectrogram1\n",
    "        self.spectrogram2 = spectrogram2\n",
    "        \n",
    "    def MergeSpectrogram(self):\n",
    "        return (self.spectrogram1 + self.spectrogram2)/2"
   ]
  },
  {
   "cell_type": "code",
   "execution_count": 53,
   "metadata": {},
   "outputs": [],
   "source": [
    "class LossFunctions:\n",
    "    def __init__(self, mel_targets, mel_outputs):\n",
    "        self.mel_targets = mel_targets \n",
    "        self.mel_outputs = mel_outputs\n",
    "    \n",
    "    def loss_c_func(self):\n",
    "        tf.losses.mean_squared_error(self.mel_targets, self.mel_outputs)\n",
    "        \n",
    "    def loss_s_func(self):\n",
    "        tf.losses.mean_squared_error(self.mel_targets*tf.transpose(self.mel_targets), \n",
    "                                     self.mel_outputs*tf.transpose(self.mel_outputs))"
   ]
  },
  {
   "cell_type": "code",
   "execution_count": 25,
   "metadata": {},
   "outputs": [],
   "source": [
    "def spectrogram_to_audio(spectrogram):\n",
    "    res = librosa.feature.inverse.mel_to_audio(spectrogram)\n",
    "    return res"
   ]
  },
  {
   "cell_type": "code",
   "execution_count": null,
   "metadata": {},
   "outputs": [],
   "source": []
  },
  {
   "cell_type": "code",
   "execution_count": null,
   "metadata": {},
   "outputs": [],
   "source": []
  },
  {
   "cell_type": "code",
   "execution_count": null,
   "metadata": {},
   "outputs": [],
   "source": []
  },
  {
   "cell_type": "code",
   "execution_count": 50,
   "metadata": {},
   "outputs": [
    {
     "name": "stdout",
     "output_type": "stream",
     "text": [
      "(128, 1293)\n"
     ]
    }
   ],
   "source": [
    "if __name__ == '__main__':\n",
    "    content_object = AudioStuff(\"vocals.wav\")\n",
    "    style_object = AudioStuff(\"accompaniment.wav\")\n",
    "    content_spectrogram, content_rate = content_object.audio_to_spectrogram()\n",
    "    style_spectrogram, style_rate = style_object.audio_to_spectrogram()\n",
    "    #print(content_spectrogram.shape)\n",
    "    #print(style_spectrogram)\n",
    "    object1 = SpectrogramStuff(content_spectrogram, style_spectrogram)\n",
    "    print(object1.MergeSpectrogram().shape)\n",
    "    #content_audio = spectrogram_to_audio(content_spectrogram)\n",
    "    merge_spectrogram = object1.MergeSpectrogram()\n",
    "    merge_audio = spectrogram_to_audio(merge_spectrogram)\n",
    "    #style_audio = spectrogram_to_audio(style_spectrogram)\n",
    "    wavfile.write(\"OUTPUT/outp3.wav\", style_rate, merge_audio)\n",
    "\n",
    "    \n",
    "    "
   ]
  },
  {
   "cell_type": "code",
   "execution_count": null,
   "metadata": {},
   "outputs": [],
   "source": []
  }
 ],
 "metadata": {
  "kernelspec": {
   "display_name": "Python 3.7 (tensorflow)",
   "language": "python",
   "name": "tensorflow"
  },
  "language_info": {
   "codemirror_mode": {
    "name": "ipython",
    "version": 3
   },
   "file_extension": ".py",
   "mimetype": "text/x-python",
   "name": "python",
   "nbconvert_exporter": "python",
   "pygments_lexer": "ipython3",
   "version": "3.7.9"
  }
 },
 "nbformat": 4,
 "nbformat_minor": 4
}
